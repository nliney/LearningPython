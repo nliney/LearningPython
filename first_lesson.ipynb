{
  "nbformat": 4,
  "nbformat_minor": 0,
  "metadata": {
    "colab": {
      "name": "first lesson.ipynb",
      "provenance": [],
      "collapsed_sections": [],
      "authorship_tag": "ABX9TyONBjjgUD83Uft5MzN9aVd7",
      "include_colab_link": true
    },
    "kernelspec": {
      "name": "python3",
      "display_name": "Python 3"
    },
    "language_info": {
      "name": "python"
    }
  },
  "cells": [
    {
      "cell_type": "markdown",
      "metadata": {
        "id": "view-in-github",
        "colab_type": "text"
      },
      "source": [
        "<a href=\"https://colab.research.google.com/github/nliney/LearningPython/blob/main/first_lesson.ipynb\" target=\"_parent\"><img src=\"https://colab.research.google.com/assets/colab-badge.svg\" alt=\"Open In Colab\"/></a>"
      ]
    },
    {
      "cell_type": "code",
      "metadata": {
        "colab": {
          "base_uri": "https://localhost:8080/"
        },
        "id": "_uUDsEiTIAoI",
        "outputId": "f896f3a1-4775-4542-9c85-ca0ea98538ac"
      },
      "source": [
        "print (\"Nerys\")"
      ],
      "execution_count": 2,
      "outputs": [
        {
          "output_type": "stream",
          "text": [
            "Nerys\n"
          ],
          "name": "stdout"
        }
      ]
    },
    {
      "cell_type": "code",
      "metadata": {
        "colab": {
          "base_uri": "https://localhost:8080/"
        },
        "id": "bgK-5lgNIF5x",
        "outputId": "738d47d8-3c1c-4262-c566-85781bdd20f2"
      },
      "source": [
        "print(\"What is your name?\")"
      ],
      "execution_count": 3,
      "outputs": [
        {
          "output_type": "stream",
          "text": [
            "What is your name?\n"
          ],
          "name": "stdout"
        }
      ]
    },
    {
      "cell_type": "code",
      "metadata": {
        "colab": {
          "base_uri": "https://localhost:8080/"
        },
        "id": "VvKkLwe3Igie",
        "outputId": "eafa4e75-d813-4cf9-f9c7-a6b5ffd043e8"
      },
      "source": [
        "my_name = input(\"What is your name?\")"
      ],
      "execution_count": 4,
      "outputs": [
        {
          "output_type": "stream",
          "text": [
            "What is your name?Nerys\n"
          ],
          "name": "stdout"
        }
      ]
    },
    {
      "cell_type": "code",
      "metadata": {
        "colab": {
          "base_uri": "https://localhost:8080/"
        },
        "id": "NUgeclRIJBtv",
        "outputId": "3860245c-f0d3-4613-bdb7-b6b95be0d583"
      },
      "source": [
        "print(\"my_name\")"
      ],
      "execution_count": 5,
      "outputs": [
        {
          "output_type": "stream",
          "text": [
            "my_name\n"
          ],
          "name": "stdout"
        }
      ]
    },
    {
      "cell_type": "code",
      "metadata": {
        "colab": {
          "base_uri": "https://localhost:8080/"
        },
        "id": "o9KujfOCJepa",
        "outputId": "57ed8262-969e-4e5b-8cae-e3ad1c05ab87"
      },
      "source": [
        "print(my_name)"
      ],
      "execution_count": 6,
      "outputs": [
        {
          "output_type": "stream",
          "text": [
            "Nerys\n"
          ],
          "name": "stdout"
        }
      ]
    },
    {
      "cell_type": "code",
      "metadata": {
        "colab": {
          "base_uri": "https://localhost:8080/"
        },
        "id": "MZoh5TjhJjzY",
        "outputId": "2ea18086-7420-4901-dec8-507aff74e95f"
      },
      "source": [
        "print(\"Hello \" + my_name)"
      ],
      "execution_count": 17,
      "outputs": [
        {
          "output_type": "stream",
          "text": [
            "Hello Nerys\n"
          ],
          "name": "stdout"
        }
      ]
    },
    {
      "cell_type": "code",
      "metadata": {
        "id": "uBW94l7_J3RT"
      },
      "source": [
        "age = 1"
      ],
      "execution_count": 26,
      "outputs": []
    },
    {
      "cell_type": "code",
      "metadata": {
        "colab": {
          "base_uri": "https://localhost:8080/"
        },
        "id": "Yj4fDVA-M7Ve",
        "outputId": "fba7b017-6b54-43eb-e3ec-772ff5d50e13"
      },
      "source": [
        "print(age)"
      ],
      "execution_count": 27,
      "outputs": [
        {
          "output_type": "stream",
          "text": [
            "1\n"
          ],
          "name": "stdout"
        }
      ]
    },
    {
      "cell_type": "code",
      "metadata": {
        "colab": {
          "base_uri": "https://localhost:8080/"
        },
        "id": "KnTKWKFlKB1U",
        "outputId": "d8d85262-ed79-4f11-b14b-bc3d4bc43238"
      },
      "source": [
        "answer = input(my_name + \" are you \" + str(age) + \" years old?\")"
      ],
      "execution_count": 28,
      "outputs": [
        {
          "output_type": "stream",
          "text": [
            "Nerys are you 1 years old?no\n"
          ],
          "name": "stdout"
        }
      ]
    },
    {
      "cell_type": "code",
      "metadata": {
        "colab": {
          "base_uri": "https://localhost:8080/"
        },
        "id": "NGiMW5niKHoH",
        "outputId": "3a2e9e02-ac7d-41ca-92b3-aa87e78283c3"
      },
      "source": [
        "print(answer)"
      ],
      "execution_count": 29,
      "outputs": [
        {
          "output_type": "stream",
          "text": [
            "no\n"
          ],
          "name": "stdout"
        }
      ]
    },
    {
      "cell_type": "code",
      "metadata": {
        "colab": {
          "base_uri": "https://localhost:8080/"
        },
        "id": "Q98hb8icLdRf",
        "outputId": "84ea882f-872e-4943-a184-e5357cb82bbe"
      },
      "source": [
        "if answer == \"no\":\n",
        "  print(\"Nerys is not \" + str(age) + \" years old\")\n",
        "  age = age + 1\n",
        "  answer = input(my_name + \" are you \" + str(age) + \" years old?\")\n",
        "  \n",
        "if answer ==\"yes\":\n",
        "  print(\"Nerys is \" + str(age) + \" years old\")"
      ],
      "execution_count": 37,
      "outputs": [
        {
          "output_type": "stream",
          "text": [
            "Nerys is 8 years old\n"
          ],
          "name": "stdout"
        }
      ]
    },
    {
      "cell_type": "code",
      "metadata": {
        "id": "AKod78klL7A5"
      },
      "source": [
        ""
      ],
      "execution_count": 36,
      "outputs": []
    }
  ]
}